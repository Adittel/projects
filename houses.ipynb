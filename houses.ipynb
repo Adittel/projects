{
 "cells": [
  {
   "cell_type": "code",
   "execution_count": 1,
   "metadata": {},
   "outputs": [],
   "source": [
    "#importing the methods used\n",
    "import numpy as np\n",
    "import pandas as pd\n",
    "import sklearn as sk\n",
    "import matplotlib.pyplot as plt\n",
    "from sklearn.ensemble import GradientBoostingRegressor\n",
    "from sklearn.model_selection import train_test_split\n",
    "from sklearn.metrics import mean_squared_error\n",
    "from sklearn.metrics import mean_absolute_error\n",
    "from sklearn import linear_model\n",
    "from sklearn.metrics import classification_report, confusion_matrix\n",
    "from sklearn.ensemble import GradientBoostingClassifier\n",
    "from sklearn.metrics import accuracy_score\n",
    "from sklearn.preprocessing import MinMaxScaler\n",
    "from sklearn.svm import SVC\n"
   ]
  },
  {
   "cell_type": "code",
   "execution_count": 2,
   "metadata": {},
   "outputs": [],
   "source": [
    "def dataclean(file):\n",
    "    data1 = pd.read_csv(file)\n",
    "    data = data1.to_numpy()\n",
    "    y = data[:,80]\n",
    "    y= y.astype('int')\n",
    "    x = data[:,:-1]\n",
    "    print(x.shape)\n",
    "    for i in range(0,len(x)-1):\n",
    "        if(i<80):\n",
    "            x[:,i],b = pd.factorize(x[:,i])\n",
    "    print(x.shape)\n",
    "    return x , y"
   ]
  },
  {
   "cell_type": "code",
   "execution_count": 3,
   "metadata": {},
   "outputs": [],
   "source": [
    "#train and predict the values\n",
    "# we are using 3 machine learning techniuqies.\n",
    "def train_pred(x, y,testing):\n",
    "    X_train, X_test, y_train, y_test = train_test_split(x, y)\n",
    "    # we use k nearest neighbors\n",
    "    #clf = linear_model.Lasso(alpha=0.5).fit(X_train, y_train)\n",
    "    clf = linear_model.LinearRegression().fit(X_train, y_train)\n",
    " \n",
    "    # we use a gradient boosted classifier\n",
    "    \n",
    "    print(\"Accuracy score (validation): {0:.3f}\".format(clf.score(X_test, y_test)))\n",
    "    \n",
    "    a=[[1]]\n",
    "\n",
    "  \n",
    "    # run through the data and use the predict function to get a prediction for the test data.\n",
    "    # in the future we will have to input all the rows and have it disregard rows where data is missing.\n",
    "    for i in range(len(testing)):\n",
    "        n = testing[i].reshape(1,-1)\n",
    "        prediction = clf.predict(n)\n",
    "        a=np.vstack((a,prediction))\n",
    "    a=a[1:]\n",
    "    pd.DataFrame(a, columns=[\"SalePrice\"]).to_csv(\"D:/chrome download/house/a.csv\")\n",
    " "
   ]
  },
  {
   "cell_type": "code",
   "execution_count": 4,
   "metadata": {},
   "outputs": [
    {
     "name": "stdout",
     "output_type": "stream",
     "text": [
      "(1460, 80)\n",
      "(1460, 80)\n",
      "(1459, 80)\n",
      "(1459, 80)\n",
      "(1459, 80)\n",
      "Accuracy score (validation): 0.596\n"
     ]
    }
   ],
   "source": [
    "x_train , y_train = dataclean(\"D:/chrome download/house/train.csv\")\n",
    "x_test, nuls = dataclean(\"D:/chrome download/house/test.csv\")\n",
    "print(x_test.shape)\n",
    "train_pred(x_train,y_train,x_test )"
   ]
  },
  {
   "cell_type": "code",
   "execution_count": null,
   "metadata": {},
   "outputs": [],
   "source": []
  }
 ],
 "metadata": {
  "kernelspec": {
   "display_name": "Python 3",
   "language": "python",
   "name": "python3"
  },
  "language_info": {
   "codemirror_mode": {
    "name": "ipython",
    "version": 3
   },
   "file_extension": ".py",
   "mimetype": "text/x-python",
   "name": "python",
   "nbconvert_exporter": "python",
   "pygments_lexer": "ipython3",
   "version": "3.6.6"
  }
 },
 "nbformat": 4,
 "nbformat_minor": 2
}
